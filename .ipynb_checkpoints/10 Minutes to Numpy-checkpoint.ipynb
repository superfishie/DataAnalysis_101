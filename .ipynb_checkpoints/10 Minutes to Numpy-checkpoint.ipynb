{
 "cells": [
  {
   "cell_type": "markdown",
   "metadata": {},
   "source": [
    "# Numpy 教程"
   ]
  },
  {
   "cell_type": "markdown",
   "metadata": {},
   "source": [
    "##  一. ndarray-Numpy的核心\n",
    "\n",
    "ndarray(N-dimensional array)，即N维数组.\n",
    "\n",
    "数据类型、形状、轴(维数)\n",
    "\n"
   ]
  },
  {
   "cell_type": "code",
   "execution_count": 5,
   "metadata": {},
   "outputs": [],
   "source": [
    "import numpy as np\n",
    "import matplotlib.pyplot as plt"
   ]
  },
  {
   "cell_type": "code",
   "execution_count": 2,
   "metadata": {},
   "outputs": [],
   "source": [
    "# 0维度数组\n",
    "a= np.array(5)"
   ]
  },
  {
   "cell_type": "code",
   "execution_count": 3,
   "metadata": {},
   "outputs": [],
   "source": [
    "# 1维数组\n",
    "b = np.array([1,2,3])"
   ]
  },
  {
   "cell_type": "code",
   "execution_count": 4,
   "metadata": {},
   "outputs": [],
   "source": [
    "# 2维数组\n",
    "c = np.array([[1,2,3],[4,5,6]])"
   ]
  },
  {
   "cell_type": "code",
   "execution_count": 5,
   "metadata": {},
   "outputs": [],
   "source": [
    "# 3维数组\n",
    "d = np.array([[[1,2,3],[4,5,6]],[[1,2,3],[4,5,6]]])"
   ]
  },
  {
   "cell_type": "code",
   "execution_count": 6,
   "metadata": {},
   "outputs": [],
   "source": [
    "#轴:\n",
    "#0轴: x轴\n",
    "#1轴: y轴"
   ]
  },
  {
   "cell_type": "code",
   "execution_count": 7,
   "metadata": {},
   "outputs": [
    {
     "data": {
      "text/plain": [
       "(2, 2, 3)"
      ]
     },
     "execution_count": 7,
     "metadata": {},
     "output_type": "execute_result"
    }
   ],
   "source": [
    "# 形状: shape,是一个元组,元组的长度决定数组的维度 \n",
    "d.shape"
   ]
  },
  {
   "cell_type": "code",
   "execution_count": 8,
   "metadata": {},
   "outputs": [],
   "source": [
    "#数据类型: int类型,默认位int32\n",
    "a = np.array([[1,2,3],[4,5,6]])"
   ]
  },
  {
   "cell_type": "code",
   "execution_count": 9,
   "metadata": {},
   "outputs": [
    {
     "data": {
      "text/plain": [
       "dtype('int32')"
      ]
     },
     "execution_count": 9,
     "metadata": {},
     "output_type": "execute_result"
    }
   ],
   "source": [
    "a.dtype"
   ]
  },
  {
   "cell_type": "code",
   "execution_count": 10,
   "metadata": {},
   "outputs": [],
   "source": [
    "#数据类型: floate类型,默认位float64\n",
    "b = np.array([[1.5,2,3],[4,5,6]])"
   ]
  },
  {
   "cell_type": "code",
   "execution_count": 11,
   "metadata": {},
   "outputs": [
    {
     "data": {
      "text/plain": [
       "dtype('float64')"
      ]
     },
     "execution_count": 11,
     "metadata": {},
     "output_type": "execute_result"
    }
   ],
   "source": [
    "b.dtype"
   ]
  },
  {
   "cell_type": "code",
   "execution_count": 12,
   "metadata": {},
   "outputs": [
    {
     "data": {
      "text/plain": [
       "8"
      ]
     },
     "execution_count": 12,
     "metadata": {},
     "output_type": "execute_result"
    }
   ],
   "source": [
    "b.itemsize #数组中每个元素的大小"
   ]
  },
  {
   "cell_type": "code",
   "execution_count": 13,
   "metadata": {},
   "outputs": [],
   "source": [
    "#转换数据类型, 单纯用b.astype(\"float32\")并不会改变b的数据类型\n",
    "b=b.astype(\"float32\")"
   ]
  },
  {
   "cell_type": "markdown",
   "metadata": {},
   "source": [
    "创建：np.array(dtype=)\n",
    "\n",
    "属性:  \n",
    "dtype: 元素类型    \n",
    "ndim: 维数,秩  \n",
    "size: 数组元素的总个数  \n",
    "shape: 数组的维度\n",
    "\n"
   ]
  },
  {
   "cell_type": "markdown",
   "metadata": {},
   "source": [
    "## 二. Numpy基本操作\n",
    "\n",
    "1、自带创建数组方法\n",
    "\n",
    "2、数组的索引机制、切片迭代方法\n",
    "\n",
    "3、数组的形状改变\n"
   ]
  },
  {
   "cell_type": "code",
   "execution_count": 14,
   "metadata": {},
   "outputs": [
    {
     "data": {
      "text/plain": [
       "array([[0., 0., 0.],\n",
       "       [0., 0., 0.]])"
      ]
     },
     "execution_count": 14,
     "metadata": {},
     "output_type": "execute_result"
    }
   ],
   "source": [
    "np.zeros(shape=(2,3))"
   ]
  },
  {
   "cell_type": "code",
   "execution_count": 15,
   "metadata": {},
   "outputs": [
    {
     "data": {
      "text/plain": [
       "dtype('int32')"
      ]
     },
     "execution_count": 15,
     "metadata": {},
     "output_type": "execute_result"
    }
   ],
   "source": [
    "a.dtype"
   ]
  },
  {
   "cell_type": "code",
   "execution_count": 16,
   "metadata": {},
   "outputs": [],
   "source": [
    "#np.ones([3,4])\n",
    "b = np.ones(shape=(3,4))"
   ]
  },
  {
   "cell_type": "markdown",
   "metadata": {},
   "source": [
    "等差数列和等比数列"
   ]
  },
  {
   "cell_type": "code",
   "execution_count": 17,
   "metadata": {},
   "outputs": [
    {
     "data": {
      "text/plain": [
       "array([0, 2, 4, 6, 8])"
      ]
     },
     "execution_count": 17,
     "metadata": {},
     "output_type": "execute_result"
    }
   ],
   "source": [
    "# 创建一个等差数列\n",
    "#2为步长\n",
    "np.arange(0,10,2)"
   ]
  },
  {
   "cell_type": "code",
   "execution_count": 18,
   "metadata": {},
   "outputs": [
    {
     "data": {
      "text/plain": [
       "array([ 0.        ,  0.90909091,  1.81818182,  2.72727273,  3.63636364,\n",
       "        4.54545455,  5.45454545,  6.36363636,  7.27272727,  8.18181818,\n",
       "        9.09090909, 10.        ])"
      ]
     },
     "execution_count": 18,
     "metadata": {},
     "output_type": "execute_result"
    }
   ],
   "source": [
    "#12为0,10之间的元素的个数\n",
    "np.linspace(0,10,12)"
   ]
  },
  {
   "cell_type": "code",
   "execution_count": 19,
   "metadata": {},
   "outputs": [
    {
     "data": {
      "text/plain": [
       "array([  1.        ,   3.16227766,  10.        ,  31.6227766 ,\n",
       "       100.        ])"
      ]
     },
     "execution_count": 19,
     "metadata": {},
     "output_type": "execute_result"
    }
   ],
   "source": [
    "#创建一个等比数列,以10为底数,元素的个数为5\n",
    "np.logspace(0,2,5)"
   ]
  },
  {
   "cell_type": "markdown",
   "metadata": {},
   "source": [
    "均匀分布"
   ]
  },
  {
   "cell_type": "code",
   "execution_count": 20,
   "metadata": {},
   "outputs": [],
   "source": [
    "x1 = np.random.uniform(-1,1,1000000)"
   ]
  },
  {
   "cell_type": "code",
   "execution_count": 85,
   "metadata": {},
   "outputs": [
    {
     "data": {
      "image/png": "[encoded data removed]",
      "text/plain": [
       "<matplotlib.figure.Figure at 0x1a967d53e48>"
      ]
     },
     "metadata": {},
     "output_type": "display_data"
    }
   ],
   "source": [
    "plt.figure(figsize=(20,8),dpi=80)\n",
    "plt.hist(x1,bins=1000)\n",
    "plt.yticks(range(2500)[::500])#改变y的刻度\n",
    "plt.show()"
   ]
  },
  {
   "cell_type": "code",
   "execution_count": 22,
   "metadata": {},
   "outputs": [
    {
     "data": {
      "text/plain": [
       "array([0.12094469, 0.05311192, 0.15944272, 0.00719759, 0.83295876,\n",
       "       0.39147554, 0.21596171, 0.57952021, 0.00910038, 0.56611455])"
      ]
     },
     "execution_count": 22,
     "metadata": {},
     "output_type": "execute_result"
    }
   ],
   "source": [
    "# 创建随机数列\n",
    "np.random.rand(10)"
   ]
  },
  {
   "cell_type": "code",
   "execution_count": 23,
   "metadata": {},
   "outputs": [
    {
     "data": {
      "text/plain": [
       "array([14, 16, 98, 55,  6, 90, 75, 13, 20, 19])"
      ]
     },
     "execution_count": 23,
     "metadata": {},
     "output_type": "execute_result"
    }
   ],
   "source": [
    "#随机整数\n",
    "np.random.randint(1,100,10)"
   ]
  },
  {
   "cell_type": "code",
   "execution_count": 24,
   "metadata": {},
   "outputs": [
    {
     "data": {
      "text/plain": [
       "array([35.54466355, 96.29230453, 56.54805288, 86.81633815, 17.44650138,\n",
       "        4.6757327 , 68.98709119, 48.6214851 , 61.45984911, 69.30605321])"
      ]
     },
     "execution_count": 24,
     "metadata": {},
     "output_type": "execute_result"
    }
   ],
   "source": [
    "#随机实数\n",
    "np.random.uniform(0,100,10)"
   ]
  },
  {
   "cell_type": "markdown",
   "metadata": {},
   "source": [
    "正态分布"
   ]
  },
  {
   "cell_type": "code",
   "execution_count": 78,
   "metadata": {},
   "outputs": [],
   "source": [
    "x = np.random.normal(0,1,1000000)"
   ]
  },
  {
   "cell_type": "code",
   "execution_count": 79,
   "metadata": {},
   "outputs": [
    {
     "data": {
      "image/png": "[encoded data removed]",
      "text/plain": [
       "<matplotlib.figure.Figure at 0x1a9678b9be0>"
      ]
     },
     "metadata": {},
     "output_type": "display_data"
    }
   ],
   "source": [
    "plt.figure(figsize=(20,8),dpi=80)\n",
    "plt.hist(x,bins=1000)\n",
    "plt.show()"
   ]
  },
  {
   "cell_type": "code",
   "execution_count": 27,
   "metadata": {},
   "outputs": [
    {
     "data": {
      "text/plain": [
       "array([[-0.32267663,  1.06756613, -0.26622386],\n",
       "       [-0.0021445 ,  2.02444633,  0.75216268]])"
      ]
     },
     "execution_count": 27,
     "metadata": {},
     "output_type": "execute_result"
    }
   ],
   "source": [
    "#生成均值为0,方差为1的 2行3列的数组\n",
    "np.random.normal(0,1,(2,3))"
   ]
  },
  {
   "cell_type": "code",
   "execution_count": 28,
   "metadata": {},
   "outputs": [
    {
     "data": {
      "text/plain": [
       "array([[-0.76369236,  0.52648508,  1.82753161],\n",
       "       [-0.06978001, -0.39225181, -0.69694671]])"
      ]
     },
     "execution_count": 28,
     "metadata": {},
     "output_type": "execute_result"
    }
   ],
   "source": [
    "#标准正态分布\n",
    "np.random.standard_normal((2,3))"
   ]
  },
  {
   "cell_type": "markdown",
   "metadata": {},
   "source": [
    "随机生成500个股票两年的交易日涨跌幅数据"
   ]
  },
  {
   "cell_type": "code",
   "execution_count": 29,
   "metadata": {},
   "outputs": [],
   "source": [
    "a = np.random.normal(0,1,(500,252*2))"
   ]
  },
  {
   "cell_type": "markdown",
   "metadata": {},
   "source": [
    "## 三. Numpy的索引和切片"
   ]
  },
  {
   "cell_type": "code",
   "execution_count": 30,
   "metadata": {},
   "outputs": [
    {
     "data": {
      "text/plain": [
       "-1.5522463704005076"
      ]
     },
     "execution_count": 30,
     "metadata": {},
     "output_type": "execute_result"
    }
   ],
   "source": [
    "#先行后列\n",
    "a[100,20]"
   ]
  },
  {
   "cell_type": "code",
   "execution_count": 31,
   "metadata": {},
   "outputs": [
    {
     "data": {
      "text/plain": [
       "-1.5522463704005076"
      ]
     },
     "execution_count": 31,
     "metadata": {},
     "output_type": "execute_result"
    }
   ],
   "source": [
    "#先列后行\n",
    "a[100][20]"
   ]
  },
  {
   "cell_type": "code",
   "execution_count": 32,
   "metadata": {},
   "outputs": [
    {
     "data": {
      "text/plain": [
       "array([[-0.79279879,  1.79673225,  0.08420958, -0.88315672, -0.09555219],\n",
       "       [ 1.26285422,  0.04480302, -0.89738025, -0.06681202, -0.73003997],\n",
       "       [-1.64645256,  0.08883592,  0.96237471, -0.58140802, -0.6089233 ]])"
      ]
     },
     "execution_count": 32,
     "metadata": {},
     "output_type": "execute_result"
    }
   ],
   "source": [
    "#切片\n",
    "a[2:5,4:9]"
   ]
  },
  {
   "cell_type": "markdown",
   "metadata": {},
   "source": [
    "获取第一个股票的前100个交易日的涨跌幅数据"
   ]
  },
  {
   "cell_type": "code",
   "execution_count": 33,
   "metadata": {},
   "outputs": [
    {
     "data": {
      "text/plain": [
       "array([-0.32430944,  0.37073573,  1.94107714,  0.8222559 ,  0.22894726,\n",
       "        0.70341965,  0.46873709,  1.0016765 ,  1.11367467,  0.9962498 ,\n",
       "        0.34050064, -2.15308386,  1.18082791, -0.71781385, -0.85276672,\n",
       "       -0.26819802, -0.59208785,  0.25724027,  0.38371516, -2.5032194 ,\n",
       "       -1.868272  ,  0.23780448,  0.8441205 , -2.20383308, -1.44865063,\n",
       "       -0.49700952,  0.21296579, -1.48810148,  1.14394173, -0.85989249,\n",
       "        2.40087163,  0.15131716, -0.63021666, -0.36332767,  1.08456492,\n",
       "        0.9439893 ,  0.69346784, -0.59978551, -1.81722896, -0.63847841,\n",
       "       -0.44517528, -0.3303304 , -0.98887836,  0.55237144, -1.1152583 ,\n",
       "        1.26460811, -0.41533351, -1.30068983, -1.67756197, -0.89000173,\n",
       "       -1.18083111,  0.29505394,  1.60214711,  0.69704174, -0.31460977,\n",
       "       -0.32057631,  0.43336348,  0.21358431,  0.08096194, -0.95862328,\n",
       "       -0.82185316, -0.50950752, -0.07683504, -0.39827906,  0.94727725,\n",
       "       -0.00858333,  0.61414526, -1.23289837, -1.08134789, -0.65327533,\n",
       "       -1.33063257, -1.28752899, -1.10102442, -3.2561499 ,  0.55888815,\n",
       "        0.19732325, -0.37671208,  0.25631981, -1.12642335,  0.21123518,\n",
       "       -2.12778444, -1.33204648, -1.38422831,  1.09066381, -0.39007145,\n",
       "        0.32673067,  0.62004244,  1.007779  , -0.60559174,  0.1329278 ,\n",
       "       -0.75181753,  0.40086517,  0.18230766,  0.24033532, -0.05007589,\n",
       "       -1.23700777, -2.1858564 , -1.90549164,  2.78634597,  0.22551075])"
      ]
     },
     "execution_count": 33,
     "metadata": {},
     "output_type": "execute_result"
    }
   ],
   "source": [
    "a[0,0:100]"
   ]
  },
  {
   "cell_type": "code",
   "execution_count": 34,
   "metadata": {},
   "outputs": [],
   "source": [
    "#随机生成200个股票,3年的交易涨跌幅数据\n",
    "#获取前30行,后50列的数据\n",
    "#改变的数据的类型为int\n",
    "b = np.random.normal(0,1,(200,252*3))\n",
    "data = b[:30,-50:]\n",
    "data=data.astype(\"int32\")"
   ]
  },
  {
   "cell_type": "code",
   "execution_count": 35,
   "metadata": {},
   "outputs": [
    {
     "data": {
      "text/plain": [
       "(30, 50)"
      ]
     },
     "execution_count": 35,
     "metadata": {},
     "output_type": "execute_result"
    }
   ],
   "source": [
    "data.shape"
   ]
  },
  {
   "cell_type": "markdown",
   "metadata": {},
   "source": [
    "### 数组的形状改变、类型改变\n",
    "\n",
    "array.reshape(shape)\n",
    "\n",
    "array.astype(type)：修改数据类型\n",
    "\n",
    "np.round(data, n):保留n位小数,四舍五入到所需精度的值\n"
   ]
  },
  {
   "cell_type": "code",
   "execution_count": 87,
   "metadata": {},
   "outputs": [
    {
     "data": {
      "text/plain": [
       "array([[1, 3, 5],\n",
       "       [2, 4, 6]])"
      ]
     },
     "execution_count": 87,
     "metadata": {},
     "output_type": "execute_result"
    }
   ],
   "source": [
    "a1 = np.array([[1,3,5],[2,4,6]])\n",
    "a1"
   ]
  },
  {
   "cell_type": "code",
   "execution_count": 88,
   "metadata": {},
   "outputs": [
    {
     "data": {
      "text/plain": [
       "array([[1, 3],\n",
       "       [5, 2],\n",
       "       [4, 6]])"
      ]
     },
     "execution_count": 88,
     "metadata": {},
     "output_type": "execute_result"
    }
   ],
   "source": [
    "a2 = a1.reshape([3,2]) #生成新的数组"
   ]
  },
  {
   "cell_type": "code",
   "execution_count": 89,
   "metadata": {},
   "outputs": [
    {
     "data": {
      "text/plain": [
       "array([[1, 3, 5],\n",
       "       [2, 4, 6]])"
      ]
     },
     "execution_count": 89,
     "metadata": {},
     "output_type": "execute_result"
    }
   ],
   "source": [
    "a1"
   ]
  },
  {
   "cell_type": "code",
   "execution_count": 91,
   "metadata": {},
   "outputs": [],
   "source": [
    "a1.resize([3,2]) #修改原来的数组"
   ]
  },
  {
   "cell_type": "code",
   "execution_count": 92,
   "metadata": {},
   "outputs": [
    {
     "data": {
      "text/plain": [
       "array([[1, 3],\n",
       "       [5, 2],\n",
       "       [4, 6]])"
      ]
     },
     "execution_count": 92,
     "metadata": {},
     "output_type": "execute_result"
    }
   ],
   "source": [
    "a1"
   ]
  },
  {
   "cell_type": "code",
   "execution_count": 94,
   "metadata": {},
   "outputs": [
    {
     "data": {
      "text/plain": [
       "dtype('int32')"
      ]
     },
     "execution_count": 94,
     "metadata": {},
     "output_type": "execute_result"
    }
   ],
   "source": [
    "a1.dtype"
   ]
  },
  {
   "cell_type": "code",
   "execution_count": 95,
   "metadata": {},
   "outputs": [
    {
     "data": {
      "text/plain": [
       "array([[1, 3],\n",
       "       [5, 2],\n",
       "       [4, 6]], dtype=int64)"
      ]
     },
     "execution_count": 95,
     "metadata": {},
     "output_type": "execute_result"
    }
   ],
   "source": [
    "a4 = a1.astype(np.int64)# 不修改原来的数组 返回新的数组\n",
    "a4"
   ]
  },
  {
   "cell_type": "code",
   "execution_count": 101,
   "metadata": {},
   "outputs": [
    {
     "name": "stdout",
     "output_type": "stream",
     "text": [
      "b'\\x01\\x00\\x00\\x00\\x03\\x00\\x00\\x00\\x05\\x00\\x00\\x00\\x02\\x00\\x00\\x00\\x04\\x00\\x00\\x00\\x06\\x00\\x00\\x00'\n",
      "<class 'bytes'>\n"
     ]
    }
   ],
   "source": [
    "s = a1.tostring() #转换成bytes类型 非Unicode编码字符串\n",
    "print(s)\n",
    "print(type(s))"
   ]
  },
  {
   "cell_type": "code",
   "execution_count": 100,
   "metadata": {},
   "outputs": [
    {
     "name": "stderr",
     "output_type": "stream",
     "text": [
      "C:\\ProgramData\\Anaconda3\\lib\\site-packages\\ipykernel_launcher.py:1: DeprecationWarning: The binary mode of fromstring is deprecated, as it behaves surprisingly on unicode inputs. Use frombuffer instead\n",
      "  \"\"\"Entry point for launching an IPython kernel.\n"
     ]
    },
    {
     "data": {
      "text/plain": [
       "array([[1, 3],\n",
       "       [5, 2],\n",
       "       [4, 6]])"
      ]
     },
     "execution_count": 100,
     "metadata": {},
     "output_type": "execute_result"
    }
   ],
   "source": [
    "#转换回string \n",
    "#转换时需要指定每个元素占用的大小,转换后结果是个一维数组\n",
    "a5 = np.fromstring(s,dtype=np.int32).reshape(3,2) \n",
    "a5"
   ]
  },
  {
   "cell_type": "code",
   "execution_count": 103,
   "metadata": {},
   "outputs": [
    {
     "data": {
      "text/plain": [
       "array([1, 2, 3, 6])"
      ]
     },
     "execution_count": 103,
     "metadata": {},
     "output_type": "execute_result"
    }
   ],
   "source": [
    "#unique去重,降维,排序\n",
    "b1 = np.array([[1,3,3],[2,3,6]])\n",
    "np.unique(b1)"
   ]
  },
  {
   "cell_type": "markdown",
   "metadata": {},
   "source": [
    "## 四. 矩阵的乘法"
   ]
  },
  {
   "cell_type": "code",
   "execution_count": 36,
   "metadata": {},
   "outputs": [],
   "source": [
    "#第一列为平时成绩,第二列为期末成绩,权重分别为0.7和0.3,求最终成绩\n",
    "a = np.array([[80,86],\n",
    "[82,80],\n",
    "[85,78],\n",
    "[90,90],\n",
    "[86,82],\n",
    "[82,90],\n",
    "[78,80],\n",
    "[92,94]])"
   ]
  },
  {
   "cell_type": "code",
   "execution_count": 37,
   "metadata": {},
   "outputs": [
    {
     "data": {
      "text/plain": [
       "(8, 2)"
      ]
     },
     "execution_count": 37,
     "metadata": {},
     "output_type": "execute_result"
    }
   ],
   "source": [
    "a.shape"
   ]
  },
  {
   "cell_type": "code",
   "execution_count": 38,
   "metadata": {},
   "outputs": [],
   "source": [
    "#最终的向量为8*1,所以权重的矩阵应为2*1\n",
    "b = np.array([[0.7],[0.3]])"
   ]
  },
  {
   "cell_type": "code",
   "execution_count": 39,
   "metadata": {},
   "outputs": [
    {
     "data": {
      "text/plain": [
       "array([[81.8],\n",
       "       [81.4],\n",
       "       [82.9],\n",
       "       [90. ],\n",
       "       [84.8],\n",
       "       [84.4],\n",
       "       [78.6],\n",
       "       [92.6]])"
      ]
     },
     "execution_count": 39,
     "metadata": {},
     "output_type": "execute_result"
    }
   ],
   "source": [
    "#最终成绩\n",
    "np.matmul(a,b)"
   ]
  },
  {
   "cell_type": "markdown",
   "metadata": {},
   "source": [
    "## 五. Numpy的相关计算"
   ]
  },
  {
   "cell_type": "code",
   "execution_count": 105,
   "metadata": {},
   "outputs": [
    {
     "data": {
      "text/plain": [
       "array([[-0.87228972, -0.60495699, -1.09601418, -0.02376469, -1.88757672,\n",
       "         0.53531958,  0.54843761, -0.6781174 ],\n",
       "       [-0.96717821,  0.29592748,  1.31627297,  0.49001158,  0.99944797,\n",
       "         0.46202846,  1.00165257,  0.64415332],\n",
       "       [-0.30084266, -1.12741388, -0.44775166, -0.09394065, -0.73550393,\n",
       "        -0.62860481, -0.87770878, -0.55485357],\n",
       "       [-0.6537892 , -1.5670302 ,  0.96005586,  0.82377203,  0.59544899,\n",
       "        -0.55616993,  0.13344436, -1.06922485],\n",
       "       [-1.15559382, -0.61739361,  0.25564965,  0.91724045,  0.49625448,\n",
       "        -0.48068366, -0.34858568,  0.3127605 ],\n",
       "       [ 1.55352335,  1.23976842, -0.78055543, -0.25209359, -0.74523159,\n",
       "        -0.60896487, -0.53071275, -1.14938929],\n",
       "       [-0.53931019,  0.68070787, -0.06491896,  1.35092242, -0.47110788,\n",
       "         1.01755979,  2.63718919, -0.29861791],\n",
       "       [-0.68840213, -1.56476384, -0.48529413, -0.24753553, -1.05317584,\n",
       "         0.56997356, -0.23952333, -0.75865832]])"
      ]
     },
     "execution_count": 105,
     "metadata": {},
     "output_type": "execute_result"
    }
   ],
   "source": [
    "a = np.random.normal(0,1,(500,504))\n",
    "a = a[:8,:8]\n",
    "a"
   ]
  },
  {
   "cell_type": "code",
   "execution_count": 107,
   "metadata": {},
   "outputs": [
    {
     "data": {
      "text/plain": [
       "array([[False, False, False, False, False,  True,  True, False],\n",
       "       [False, False,  True, False,  True, False,  True,  True],\n",
       "       [False, False, False, False, False, False, False, False],\n",
       "       [False, False,  True,  True,  True, False, False, False],\n",
       "       [False, False, False,  True, False, False, False, False],\n",
       "       [ True,  True, False, False, False, False, False, False],\n",
       "       [False,  True, False,  True, False,  True,  True, False],\n",
       "       [False, False, False, False, False,  True, False, False]])"
      ]
     },
     "execution_count": 107,
     "metadata": {},
     "output_type": "execute_result"
    }
   ],
   "source": [
    "a>0.5 #逻辑判断,返回布尔索引"
   ]
  },
  {
   "cell_type": "code",
   "execution_count": 110,
   "metadata": {},
   "outputs": [
    {
     "data": {
      "text/plain": [
       "array([[-0.87228972, -0.60495699, -1.09601418, -0.02376469, -1.88757672,\n",
       "         1.        ,  1.        , -0.6781174 ],\n",
       "       [-0.96717821,  0.29592748,  1.        ,  0.49001158,  1.        ,\n",
       "         0.46202846,  1.        ,  1.        ],\n",
       "       [-0.30084266, -1.12741388, -0.44775166, -0.09394065, -0.73550393,\n",
       "        -0.62860481, -0.87770878, -0.55485357],\n",
       "       [-0.6537892 , -1.5670302 ,  1.        ,  1.        ,  1.        ,\n",
       "        -0.55616993,  0.13344436, -1.06922485],\n",
       "       [-1.15559382, -0.61739361,  0.25564965,  1.        ,  0.49625448,\n",
       "        -0.48068366, -0.34858568,  0.3127605 ],\n",
       "       [ 1.        ,  1.        , -0.78055543, -0.25209359, -0.74523159,\n",
       "        -0.60896487, -0.53071275, -1.14938929],\n",
       "       [-0.53931019,  1.        , -0.06491896,  1.        , -0.47110788,\n",
       "         1.        ,  1.        , -0.29861791],\n",
       "       [-0.68840213, -1.56476384, -0.48529413, -0.24753553, -1.05317584,\n",
       "         1.        , -0.23952333, -0.75865832]])"
      ]
     },
     "execution_count": 110,
     "metadata": {},
     "output_type": "execute_result"
    }
   ],
   "source": [
    "a[a>0.5] = 1 \n",
    "a"
   ]
  },
  {
   "cell_type": "code",
   "execution_count": 112,
   "metadata": {},
   "outputs": [
    {
     "data": {
      "text/plain": [
       "True"
      ]
     },
     "execution_count": 112,
     "metadata": {},
     "output_type": "execute_result"
    }
   ],
   "source": [
    "#all代表所有数据都符合逻辑判断的条件返回真,否则假\n",
    "np.all(a>-2)"
   ]
  },
  {
   "cell_type": "code",
   "execution_count": 113,
   "metadata": {},
   "outputs": [
    {
     "data": {
      "text/plain": [
       "False"
      ]
     },
     "execution_count": 113,
     "metadata": {},
     "output_type": "execute_result"
    }
   ],
   "source": [
    "#代表任意数据符合逻辑条件\n",
    "np.any(a>2)"
   ]
  },
  {
   "cell_type": "code",
   "execution_count": 42,
   "metadata": {},
   "outputs": [
    {
     "data": {
      "text/plain": [
       "array([0.20282756, 0.20732864, 0.0248253 , ..., 0.2138786 , 0.0803365 ,\n",
       "       0.47397006])"
      ]
     },
     "execution_count": 42,
     "metadata": {},
     "output_type": "execute_result"
    }
   ],
   "source": [
    "#逻辑与\n",
    "a[(a>0)&(a<0.5)] "
   ]
  },
  {
   "cell_type": "code",
   "execution_count": 43,
   "metadata": {},
   "outputs": [
    {
     "data": {
      "text/plain": [
       "array([0.20282756, 0.20732864, 0.0248253 , ..., 0.2138786 , 0.0803365 ,\n",
       "       0.47397006])"
      ]
     },
     "execution_count": 43,
     "metadata": {},
     "output_type": "execute_result"
    }
   ],
   "source": [
    "#逻辑与\n",
    "a[np.logical_and(a>0,a<0.5)]"
   ]
  },
  {
   "cell_type": "code",
   "execution_count": 44,
   "metadata": {},
   "outputs": [
    {
     "data": {
      "text/plain": [
       "array([ 0.20282756, -0.45330709, -0.15195067, ..., -1.77204235,\n",
       "        0.58208374, -0.47288245])"
      ]
     },
     "execution_count": 44,
     "metadata": {},
     "output_type": "execute_result"
    }
   ],
   "source": [
    "#逻辑或\n",
    "a[(a>0)|(a<0.5)]"
   ]
  },
  {
   "cell_type": "code",
   "execution_count": 45,
   "metadata": {},
   "outputs": [
    {
     "data": {
      "text/plain": [
       "array([ 0.20282756, -0.45330709, -0.15195067, ..., -1.77204235,\n",
       "        0.58208374, -0.47288245])"
      ]
     },
     "execution_count": 45,
     "metadata": {},
     "output_type": "execute_result"
    }
   ],
   "source": [
    "a[np.logical_or(a>0,a<0.5)]"
   ]
  },
  {
   "cell_type": "code",
   "execution_count": 46,
   "metadata": {},
   "outputs": [],
   "source": [
    "a[(a>0)|(a<-1)]=0"
   ]
  },
  {
   "cell_type": "code",
   "execution_count": 47,
   "metadata": {},
   "outputs": [
    {
     "data": {
      "text/plain": [
       "array([[ 0.        , -0.45330709, -0.15195067, ...,  0.        ,\n",
       "        -0.87424186,  0.        ],\n",
       "       [ 0.        ,  0.        ,  0.        , ..., -0.31493756,\n",
       "         0.        , -0.20541911],\n",
       "       [ 0.        , -0.55633934,  0.        , ..., -0.67851626,\n",
       "         0.        ,  0.        ],\n",
       "       ...,\n",
       "       [-0.97492517,  0.        ,  0.        , ...,  0.        ,\n",
       "        -0.59367696, -0.20281198],\n",
       "       [ 0.        ,  0.        ,  0.        , ...,  0.        ,\n",
       "         0.        , -0.6151072 ],\n",
       "       [ 0.        ,  0.        ,  0.        , ...,  0.        ,\n",
       "         0.        , -0.47288245]])"
      ]
     },
     "execution_count": 47,
     "metadata": {},
     "output_type": "execute_result"
    }
   ],
   "source": [
    "a"
   ]
  },
  {
   "cell_type": "code",
   "execution_count": 48,
   "metadata": {},
   "outputs": [
    {
     "data": {
      "text/plain": [
       "False"
      ]
     },
     "execution_count": 48,
     "metadata": {},
     "output_type": "execute_result"
    }
   ],
   "source": [
    "#判断数组中所有的数据是否符合传入的条件\n",
    "np.all(a>0)"
   ]
  },
  {
   "cell_type": "code",
   "execution_count": 49,
   "metadata": {},
   "outputs": [
    {
     "data": {
      "text/plain": [
       "array([-9.99969741e-01, -9.99909796e-01, -9.99870557e-01, ...,\n",
       "       -2.94495811e-05, -1.38545337e-05,  0.00000000e+00])"
      ]
     },
     "execution_count": 49,
     "metadata": {},
     "output_type": "execute_result"
    }
   ],
   "source": [
    "#去重\n",
    "np.unique(a)"
   ]
  },
  {
   "cell_type": "markdown",
   "metadata": {},
   "source": [
    "## 六. 三元运算符"
   ]
  },
  {
   "cell_type": "code",
   "execution_count": 50,
   "metadata": {},
   "outputs": [],
   "source": [
    "a = np.random.normal(0,1,(500,504))"
   ]
  },
  {
   "cell_type": "code",
   "execution_count": 51,
   "metadata": {},
   "outputs": [],
   "source": [
    "# 三元运算符\n",
    "b = np.where(a>0,1,0)"
   ]
  },
  {
   "cell_type": "code",
   "execution_count": 52,
   "metadata": {},
   "outputs": [
    {
     "data": {
      "text/plain": [
       "array([[0, 0, 0, ..., 1, 1, 0],\n",
       "       [0, 0, 1, ..., 1, 0, 1],\n",
       "       [1, 0, 1, ..., 1, 1, 1],\n",
       "       ...,\n",
       "       [0, 0, 1, ..., 0, 0, 1],\n",
       "       [0, 1, 1, ..., 1, 0, 0],\n",
       "       [0, 0, 1, ..., 1, 0, 1]])"
      ]
     },
     "execution_count": 52,
     "metadata": {},
     "output_type": "execute_result"
    }
   ],
   "source": [
    "b"
   ]
  },
  {
   "cell_type": "code",
   "execution_count": 116,
   "metadata": {},
   "outputs": [
    {
     "data": {
      "text/plain": [
       "array([[-0.87228972, -0.60495699, -1.09601418],\n",
       "       [-0.96717821,  0.29592748,  1.        ],\n",
       "       [-0.30084266, -1.12741388, -0.44775166]])"
      ]
     },
     "execution_count": 116,
     "metadata": {},
     "output_type": "execute_result"
    }
   ],
   "source": [
    "c = a[:3,:3]"
   ]
  },
  {
   "cell_type": "markdown",
   "metadata": {},
   "source": [
    "## 七. 统计运算"
   ]
  },
  {
   "cell_type": "code",
   "execution_count": 117,
   "metadata": {},
   "outputs": [],
   "source": [
    "stock = np.random.normal(0,1,(500,504))"
   ]
  },
  {
   "cell_type": "code",
   "execution_count": 118,
   "metadata": {},
   "outputs": [
    {
     "name": "stdout",
     "output_type": "stream",
     "text": [
      "平均涨跌幅:  -0.0014080338645814025\n",
      "最大跌幅:  4.302697177886367\n",
      "最大跌幅:  -4.260873490675318\n"
     ]
    }
   ],
   "source": [
    "print(\"平均涨跌幅: \", np.mean(stock))\n",
    "print(\"最大跌幅: \", np.max(stock))\n",
    "print(\"最大跌幅: \", np.min(stock))"
   ]
  },
  {
   "cell_type": "code",
   "execution_count": 123,
   "metadata": {},
   "outputs": [
    {
     "data": {
      "text/plain": [
       "array([[ 0.5542101 , -1.30613478,  0.25728889,  0.42363021],\n",
       "       [ 1.65604509,  0.86957141, -1.93991072, -0.73160947],\n",
       "       [-1.15860092, -0.90857047, -0.68270954,  0.60869818],\n",
       "       [-0.80982469,  1.55160751, -0.32377039,  0.1811343 ]])"
      ]
     },
     "execution_count": 123,
     "metadata": {},
     "output_type": "execute_result"
    }
   ],
   "source": [
    "stock = stock[:4,:4]\n",
    "stock"
   ]
  },
  {
   "cell_type": "code",
   "execution_count": 122,
   "metadata": {},
   "outputs": [
    {
     "data": {
      "text/plain": [
       "array([1.65604509, 1.55160751, 0.25728889, 0.60869818])"
      ]
     },
     "execution_count": 122,
     "metadata": {},
     "output_type": "execute_result"
    }
   ],
   "source": [
    "np.max(stock,axis = 0) #按列取最大值"
   ]
  },
  {
   "cell_type": "code",
   "execution_count": 124,
   "metadata": {},
   "outputs": [
    {
     "data": {
      "text/plain": [
       "array([-1.30613478, -1.93991072, -1.15860092, -0.80982469])"
      ]
     },
     "execution_count": 124,
     "metadata": {},
     "output_type": "execute_result"
    }
   ],
   "source": [
    "np.min(stock,axis = 1) #按行取最小值"
   ]
  },
  {
   "cell_type": "code",
   "execution_count": 126,
   "metadata": {},
   "outputs": [
    {
     "data": {
      "text/plain": [
       "array([[1, 2, 3],\n",
       "       [4, 5, 6]])"
      ]
     },
     "execution_count": 126,
     "metadata": {},
     "output_type": "execute_result"
    }
   ],
   "source": [
    "#argmax: 表示最大的数的索引位置\n",
    "b = np.array([[1,2,3],[4,5,6]])\n",
    "b"
   ]
  },
  {
   "cell_type": "code",
   "execution_count": 127,
   "metadata": {},
   "outputs": [
    {
     "data": {
      "text/plain": [
       "5"
      ]
     },
     "execution_count": 127,
     "metadata": {},
     "output_type": "execute_result"
    }
   ],
   "source": [
    "#元素中的最大值,按一维数组索引\n",
    "b.argmax() "
   ]
  },
  {
   "cell_type": "code",
   "execution_count": 128,
   "metadata": {},
   "outputs": [
    {
     "data": {
      "text/plain": [
       "array([1, 1, 1], dtype=int64)"
      ]
     },
     "execution_count": 128,
     "metadata": {},
     "output_type": "execute_result"
    }
   ],
   "source": [
    "#按列取最大值\n",
    "b.argmax(axis=0)"
   ]
  },
  {
   "cell_type": "code",
   "execution_count": 58,
   "metadata": {},
   "outputs": [
    {
     "data": {
      "text/plain": [
       "array([2, 2], dtype=int64)"
      ]
     },
     "execution_count": 58,
     "metadata": {},
     "output_type": "execute_result"
    }
   ],
   "source": [
    "#按行取最大值\n",
    "b.argmax(axis=1)"
   ]
  },
  {
   "cell_type": "code",
   "execution_count": 12,
   "metadata": {},
   "outputs": [
    {
     "data": {
      "text/plain": [
       "array([[3]], dtype=int64)"
      ]
     },
     "execution_count": 12,
     "metadata": {},
     "output_type": "execute_result"
    }
   ],
   "source": [
    "#获取数组中某个元素的索引\n",
    "x1 = np.array([1,2,3,4,5])\n",
    "index = np.argwhere(x1==4)\n",
    "index"
   ]
  },
  {
   "cell_type": "markdown",
   "metadata": {},
   "source": [
    "## 八. 数组的计算"
   ]
  },
  {
   "cell_type": "code",
   "execution_count": 59,
   "metadata": {},
   "outputs": [
    {
     "data": {
      "text/plain": [
       "array([[2, 3, 4],\n",
       "       [5, 6, 7]])"
      ]
     },
     "execution_count": 59,
     "metadata": {},
     "output_type": "execute_result"
    }
   ],
   "source": [
    "#广播的机制\n",
    "b+1"
   ]
  },
  {
   "cell_type": "code",
   "execution_count": 60,
   "metadata": {},
   "outputs": [
    {
     "data": {
      "text/plain": [
       "array([[ 2,  4,  6],\n",
       "       [ 8, 10, 12]])"
      ]
     },
     "execution_count": 60,
     "metadata": {},
     "output_type": "execute_result"
    }
   ],
   "source": [
    "b*2"
   ]
  },
  {
   "cell_type": "code",
   "execution_count": 61,
   "metadata": {},
   "outputs": [
    {
     "data": {
      "text/plain": [
       "array([[-1,  0,  1],\n",
       "       [ 2,  3,  4]])"
      ]
     },
     "execution_count": 61,
     "metadata": {},
     "output_type": "execute_result"
    }
   ],
   "source": [
    "b-2"
   ]
  },
  {
   "cell_type": "code",
   "execution_count": 62,
   "metadata": {},
   "outputs": [],
   "source": [
    "a= np.array([[1,1,1],[2,2,2]])"
   ]
  },
  {
   "cell_type": "code",
   "execution_count": 63,
   "metadata": {},
   "outputs": [
    {
     "data": {
      "text/plain": [
       "array([[2, 3, 4],\n",
       "       [6, 7, 8]])"
      ]
     },
     "execution_count": 63,
     "metadata": {},
     "output_type": "execute_result"
    }
   ],
   "source": [
    "#把对应位置的元素相加\n",
    "a+b"
   ]
  },
  {
   "cell_type": "code",
   "execution_count": 64,
   "metadata": {},
   "outputs": [
    {
     "data": {
      "text/plain": [
       "array([[ 1,  2,  3],\n",
       "       [ 8, 10, 12]])"
      ]
     },
     "execution_count": 64,
     "metadata": {},
     "output_type": "execute_result"
    }
   ],
   "source": [
    "#数组维度相同,元素点乘\n",
    "a*b"
   ]
  },
  {
   "cell_type": "code",
   "execution_count": 65,
   "metadata": {},
   "outputs": [],
   "source": [
    "c=np.array([[1,2],[3,4],[5,6]])"
   ]
  },
  {
   "cell_type": "code",
   "execution_count": 66,
   "metadata": {},
   "outputs": [
    {
     "data": {
      "text/plain": [
       "array([[ 9, 12],\n",
       "       [18, 24]])"
      ]
     },
     "execution_count": 66,
     "metadata": {},
     "output_type": "execute_result"
    }
   ],
   "source": [
    "#矩阵相乘: \n",
    "np.dot(a,c)"
   ]
  },
  {
   "cell_type": "code",
   "execution_count": 67,
   "metadata": {},
   "outputs": [
    {
     "data": {
      "text/plain": [
       "array([[ 1,  2,  3],\n",
       "       [ 8, 10, 12]])"
      ]
     },
     "execution_count": 67,
     "metadata": {},
     "output_type": "execute_result"
    }
   ],
   "source": [
    "#同a*b\n",
    "np.multiply(a,b)"
   ]
  },
  {
   "attachments": {
    "image.png": {
     "image/png": "[encoded data removed]"
    }
   },
   "cell_type": "markdown",
   "metadata": {},
   "source": [
    "## 九. 数组的连接\n",
    "\n",
    "![image.png](attachment:image.png)\n"
   ]
  },
  {
   "attachments": {
    "image.png": {
     "image/png": "[encoded data removed]"
    }
   },
   "cell_type": "markdown",
   "metadata": {},
   "source": [
    "![image.png](attachment:image.png)"
   ]
  },
  {
   "cell_type": "markdown",
   "metadata": {},
   "source": [
    "## 十. Numpy读数据"
   ]
  },
  {
   "cell_type": "code",
   "execution_count": 68,
   "metadata": {},
   "outputs": [
    {
     "data": {
      "text/plain": [
       "array([[5.1, 3.5, 1.4, 0.2],\n",
       "       [4.9, 3. , nan, 0.2],\n",
       "       [4.7, nan, 1.3, 0.2],\n",
       "       [4.6, 3.1, 1.5, 0.2],\n",
       "       [5. , 3.6, 1.4, 0.2],\n",
       "       [5.4, 3.9, 1.7, 0.4],\n",
       "       [4.6, 3.4, 1.4, 0.3],\n",
       "       [5. , 3.4, 1.5, 0.2],\n",
       "       [4.4, 2.9, 1.4, 0.2],\n",
       "       [4.9, 3.1, 1.5, 0.1],\n",
       "       [5.4, 3.7, 1.5, 0.2],\n",
       "       [4.8, 3.4, 1.6, 0.2],\n",
       "       [4.8, 3. , 1.4, 0.1],\n",
       "       [4.3, 3. , 1.1, 0.1],\n",
       "       [5.8, 4. , 1.2, 0.2]])"
      ]
     },
     "execution_count": 68,
     "metadata": {},
     "output_type": "execute_result"
    }
   ],
   "source": [
    "np.genfromtxt(\"test1.csv\",delimiter=',')"
   ]
  },
  {
   "cell_type": "code",
   "execution_count": 69,
   "metadata": {},
   "outputs": [
    {
     "data": {
      "text/plain": [
       "nan"
      ]
     },
     "execution_count": 69,
     "metadata": {},
     "output_type": "execute_result"
    }
   ],
   "source": [
    "np.nan"
   ]
  },
  {
   "cell_type": "code",
   "execution_count": 70,
   "metadata": {},
   "outputs": [
    {
     "data": {
      "text/plain": [
       "float"
      ]
     },
     "execution_count": 70,
     "metadata": {},
     "output_type": "execute_result"
    }
   ],
   "source": [
    "#nan为float类型, 数组中有float类型,整个数字都会变成float类型\n",
    "type(np.nan)"
   ]
  },
  {
   "cell_type": "markdown",
   "metadata": {},
   "source": [
    "### 空值处理\n",
    "1. 删: 按轴删除   \n",
    "  按行删除   \n",
    "2. 改:   \n",
    "填充均值,按列填充   \n",
    "一般用pandas填充   "
   ]
  },
  {
   "cell_type": "code",
   "execution_count": null,
   "metadata": {},
   "outputs": [],
   "source": []
  }
 ],
 "metadata": {
  "kernelspec": {
   "display_name": "Python 3",
   "language": "python",
   "name": "python3"
  },
  "language_info": {
   "codemirror_mode": {
    "name": "ipython",
    "version": 3
   },
   "file_extension": ".py",
   "mimetype": "text/x-python",
   "name": "python",
   "nbconvert_exporter": "python",
   "pygments_lexer": "ipython3",
   "version": "3.6.4"
  }
 },
 "nbformat": 4,
 "nbformat_minor": 2
}
